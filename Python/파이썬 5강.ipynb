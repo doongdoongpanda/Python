{
 "cells": [
  {
   "cell_type": "code",
   "execution_count": 1,
   "id": "36cb131d",
   "metadata": {},
   "outputs": [
    {
     "ename": "IndentationError",
     "evalue": "expected an indented block (2101189241.py, line 2)",
     "output_type": "error",
     "traceback": [
      "\u001b[1;36m  Input \u001b[1;32mIn [1]\u001b[1;36m\u001b[0m\n\u001b[1;33m    명령\u001b[0m\n\u001b[1;37m    ^\u001b[0m\n\u001b[1;31mIndentationError\u001b[0m\u001b[1;31m:\u001b[0m expected an indented block\n"
     ]
    }
   ],
   "source": [
    "if 조건:\n",
    "명령"
   ]
  },
  {
   "cell_type": "code",
   "execution_count": 2,
   "id": "8228743c",
   "metadata": {},
   "outputs": [
    {
     "ename": "NameError",
     "evalue": "name '조건' is not defined",
     "output_type": "error",
     "traceback": [
      "\u001b[1;31m---------------------------------------------------------------------------\u001b[0m",
      "\u001b[1;31mNameError\u001b[0m                                 Traceback (most recent call last)",
      "Input \u001b[1;32mIn [2]\u001b[0m, in \u001b[0;36m<cell line: 1>\u001b[1;34m()\u001b[0m\n\u001b[1;32m----> 1\u001b[0m \u001b[38;5;28;01mif\u001b[39;00m \u001b[43m조건\u001b[49m: \u001b[38;5;66;03m#다른 프로그램에서는 대괄호, 파이썬은 콜론이다.\u001b[39;00m\n\u001b[0;32m      2\u001b[0m     명령1 \u001b[38;5;66;03m#파이썬에서는 :클론으로 시작하여 칸을 띄는 부분이 멸영의 범위가된다.\u001b[39;00m\n\u001b[0;32m      3\u001b[0m     명령2 \u001b[38;5;66;03m#명령을 할때 앞에 띄어주어야한다. \u001b[39;00m\n",
      "\u001b[1;31mNameError\u001b[0m: name '조건' is not defined"
     ]
    }
   ],
   "source": [
    "if 조건: #다른 프로그램에서는 대괄호, 파이썬은 콜론이다.\n",
    "    명령1 #파이썬에서는 :클론으로 시작하여 칸을 띄는 부분이 멸영의 범위가된다.\n",
    "    명령2 #명령을 할때 앞에 띄어주어야한다. \n",
    "명령3 #if문과 상관없을때 실행되는 명령어다.\n"
   ]
  },
  {
   "cell_type": "code",
   "execution_count": 4,
   "id": "e087aa76",
   "metadata": {},
   "outputs": [
    {
     "name": "stdout",
     "output_type": "stream",
     "text": [
      "이름이 뭐니?이자영\n",
      "주인님 어서오십시요\n"
     ]
    }
   ],
   "source": [
    "name = input(\"이름이 뭐니?\") #입력 전 텍스트를 출력한다. \n",
    "if name == \"이자영\" : #만약 입력값이 이자영이라면 \n",
    "    print(\"주인님 어서오십시요\") #텍스트를 출력한다. "
   ]
  },
  {
   "cell_type": "code",
   "execution_count": 6,
   "id": "2f1df1f3",
   "metadata": {},
   "outputs": [
    {
     "name": "stdout",
     "output_type": "stream",
     "text": [
      "성별이 어떻게 되나요?남자\n",
      "넥타이가 멋있습니다.\n"
     ]
    }
   ],
   "source": [
    "name = input(\"성별이 어떻게 되나요?\") #입력 전 텍스트를 출력한다. \n",
    "if name == \"남자\" :#만약 입력값이 남자라면 \n",
    "    print(\"넥타이가 멋있습니다.\")# 해당 텍스트를 출력한다. \n",
    "else: #아니라면 \n",
    "    print(\"립스틱색이 예쁘네요.\")# 해당 텍스트를 출력한다. "
   ]
  },
  {
   "cell_type": "code",
   "execution_count": 7,
   "id": "37972356",
   "metadata": {},
   "outputs": [
    {
     "name": "stdout",
     "output_type": "stream",
     "text": [
      "얼마를 구매하셨나요?8000\n",
      "면세입니다.\n"
     ]
    }
   ],
   "source": [
    "price = int(input(\"얼마를 구매하셨나요?\")) #입력 전 텍스트를 출력한다. \n",
    "if price < 10000 :#만약 입력 수치가 10000보다 작으면 \n",
    "    print(\"면세입니다.\")# 해당 텍스트를 출력한다. \n",
    "else:#아니라면 \n",
    "    print(\"세금은 10%입니다.\")# 해당 텍스트를 출력한다. "
   ]
  },
  {
   "cell_type": "code",
   "execution_count": 8,
   "id": "e0f53488",
   "metadata": {},
   "outputs": [
    {
     "name": "stdout",
     "output_type": "stream",
     "text": [
      "a는 100입니다\n"
     ]
    }
   ],
   "source": [
    "#비교연산자는 수치의 대소관계, 문자나 기타 자료형의 일치, 불일치 관계를 표시하는 연산자나 방법이다.\n",
    "a=100 #100을 변수 a에 부여한다. \n",
    "if (a==99): print(\"a는 99입니다\")#만약 a가 99와 같으면 해당 'a는 99입니다'텍스트를 출력한다. \n",
    "if (a==100): print(\"a는 100입니다\")#만약 a가 100와 같으면 해당 'a는 100입니다'텍스트를 출력한다. "
   ]
  },
  {
   "cell_type": "code",
   "execution_count": 9,
   "id": "789c4df2",
   "metadata": {},
   "outputs": [
    {
     "name": "stdout",
     "output_type": "stream",
     "text": [
      "a는 100이상입니다\n"
     ]
    }
   ],
   "source": [
    "if (a>=100): print(\"a는 100이상입니다\") #a가 100보다 같거나 클때 해당 텍스트 출력한다."
   ]
  },
  {
   "cell_type": "code",
   "execution_count": 10,
   "id": "474e0960",
   "metadata": {},
   "outputs": [],
   "source": [
    "if (a<100): print(\"a는 100미만입니다\") #해당사항 없으므로 출력값이 없다."
   ]
  },
  {
   "cell_type": "code",
   "execution_count": 11,
   "id": "30eb4b8d",
   "metadata": {},
   "outputs": [
    {
     "name": "stdout",
     "output_type": "stream",
     "text": [
      "abc이다\n"
     ]
    }
   ],
   "source": [
    "a=\"abc\" #문자비교, 문자열 abc를 a에 부여한다. \n",
    "if(a == \"abc\"): print(\"abc이다\") #만약 a가 문자열 abc와 같으면 \"abc이다\"를 출력한다. "
   ]
  },
  {
   "cell_type": "code",
   "execution_count": 12,
   "id": "d6dae7f6",
   "metadata": {},
   "outputs": [],
   "source": [
    " a=\"abc\" #문자비교, 문자열 abc를 a에 부여한다. \n",
    "if(a > \"abc\"): print(\"abc보다 큰문자이다\")#a와 문자열 abc과는 같은문자이기 때문에 대소관계는 규명할 수 없다."
   ]
  },
  {
   "cell_type": "code",
   "execution_count": 13,
   "id": "d9d2e990",
   "metadata": {},
   "outputs": [
    {
     "name": "stdout",
     "output_type": "stream",
     "text": [
      "abc보다 큰문자이다\n"
     ]
    }
   ],
   "source": [
    "a=\"abd\" #문자열 abd를 a에 부여한다. \n",
    "if(a > \"abc\"): print(\"abc보다 큰문자이다\") #d가 c보다 큰 문자이기 때문에(오름차순 생각하면됨) 텍스트출력 "
   ]
  },
  {
   "cell_type": "code",
   "execution_count": 14,
   "id": "f9c27c36",
   "metadata": {},
   "outputs": [],
   "source": [
    "a=\"abb\"#문자열 abb를 a에 부여한다. \n",
    "if(a > \"abc\"): print(\"abc보다 큰문자이다\")#c가 b보다 큰 문자이기 때문에 출력하는 내용이 없다."
   ]
  },
  {
   "cell_type": "code",
   "execution_count": 16,
   "id": "fb043c44",
   "metadata": {},
   "outputs": [
    {
     "name": "stdout",
     "output_type": "stream",
     "text": [
      "점수를 입력하셔요?88\n",
      "학점은 B입니다.\n"
     ]
    }
   ],
   "source": [
    "x = int(input(\"점수를 입력하셔요?\")) #입력 전 텍스트를 출력한다. \n",
    "if 0 <= x and x < 60 : print(\"학점은 F입니다.\") #만약 입력값이 0이상이면서 60점 이하이면 \"학점은 F입니다.\"내용을 출력한다.  \n",
    "if 60 <= x and x < 70 : print(\"학점은 D입니다.\")#만약 입력값이 60이상이면서 70점 이하이면 \"학점은 D입니다.\"내용을 출력한다.  \n",
    "if 70 <= x and x < 80 : print(\"학점은 C입니다.\")#만약 입력값이 70이상이면서 80점 이하이면 \"학점은 C입니다.\"내용을 출력한다.  \n",
    "if 80 <= x and x < 90 : print(\"학점은 B입니다.\")#만약 입력값이 80이상이면서 90점 이하이면 \"학점은 B입니다.\"내용을 출력한다.  \n",
    "if 90 <= x and x <= 100 : print(\"학점은 A입니다.\")#만약 입력값이 90이상이면서 100점 이하이면 \"학점은 A입니다.\"내용을 출력한다.  "
   ]
  },
  {
   "cell_type": "code",
   "execution_count": 17,
   "id": "afd88f4d",
   "metadata": {},
   "outputs": [
    {
     "name": "stdout",
     "output_type": "stream",
     "text": [
      "영문 알파벳 한글자를 입력하셔요?F\n",
      "대문자 입니다.\n"
     ]
    }
   ],
   "source": [
    "#문자열의 대소관계 조건문도 가능하다.\n",
    "x = input(\"영문 알파벳 한글자를 입력하셔요?\")#입력 전 텍스트를 출력한다. \n",
    "if \"a\" <= x and x <= \"z\" : print(\"소문자 입니다.\") #만약 입력값이 a이상이면서 z 이하이면 \"소문자 입니다.\"내용을 출력한다.\n",
    "if \"A\" <= x and x <= \"Z\" : print(\"대문자 입니다.\")#만약 입력값이 A이상이면서 Z 이하이면 \"대문자 입니다.\"내용을 출력한다."
   ]
  },
  {
   "cell_type": "code",
   "execution_count": 18,
   "id": "438a5c5f",
   "metadata": {},
   "outputs": [
    {
     "ename": "IndentationError",
     "evalue": "unexpected indent (4169966096.py, line 4)",
     "output_type": "error",
     "traceback": [
      "\u001b[1;36m  Input \u001b[1;32mIn [18]\u001b[1;36m\u001b[0m\n\u001b[1;33m    a = a - 50 #들여쓰기도 문법에 해당된다. 들여쓰기가 잘못되어있어서 이 명령은 에러가 난다.\u001b[0m\n\u001b[1;37m    ^\u001b[0m\n\u001b[1;31mIndentationError\u001b[0m\u001b[1;31m:\u001b[0m unexpected indent\n"
     ]
    }
   ],
   "source": [
    "a=100\n",
    "if a>50:\n",
    "    print (\"50보다 큰수는 50을 빼겠습니다.\")\n",
    "        a = a - 50 #들여쓰기도 문법에 해당된다. 들여쓰기가 잘못되어있어서 이 명령은 에러가 난다."
   ]
  },
  {
   "cell_type": "code",
   "execution_count": 20,
   "id": "5ce964f3",
   "metadata": {},
   "outputs": [
    {
     "name": "stdout",
     "output_type": "stream",
     "text": [
      "50보다 큰수는 50을 빼겠습니다.\n"
     ]
    }
   ],
   "source": [
    "a=100\n",
    "if a>50: #조건문 a가 50보다 크다면 \n",
    "    print (\"50보다 큰수는 50을 빼겠습니다.\")# 해당 텍스트를 출력한다. \n",
    "    a = a - 50 #a는 a-50이다."
   ]
  },
  {
   "cell_type": "code",
   "execution_count": 21,
   "id": "cf991aea",
   "metadata": {},
   "outputs": [
    {
     "name": "stdout",
     "output_type": "stream",
     "text": [
      "50\n"
     ]
    }
   ],
   "source": [
    "print(a) # 위에 a-50이 수행되어 값이 부여된 a값을 출력한다."
   ]
  },
  {
   "cell_type": "code",
   "execution_count": 22,
   "id": "0b6602e7",
   "metadata": {},
   "outputs": [
    {
     "name": "stdout",
     "output_type": "stream",
     "text": [
      "점수를 입력하셔요?(0~100)100\n",
      "학점은 A입니다\n"
     ]
    }
   ],
   "source": [
    "#elif문을 사용한 학점 계산\n",
    "x=int(input(\"점수를 입력하셔요?(0~100)\"))#입력 전 텍스트를 출력한다. \n",
    "if x >= 90 : print (\"학점은 A입니다\")#만약 입력값이 90이상이면 \"학점은 A입니다.\"내용을 출력한다. \n",
    "elif x >= 80 : print (\"학점은 B입니다\")#아니라면 입력값이 80이상이면 \"학점은 B입니다.\"내용을 출력한다. \n",
    "elif x >= 70 : print (\"학점은 C입니다\")#아니라면 입력값이 70이상이면 \"학점은 C입니다.\"내용을 출력한다.\n",
    "elif x >= 60 : print (\"학점은 D입니다\")#아니라면 입력값이 60이상이면 \"학점은 D입니다.\"내용을 출력한다.\n",
    "else : print (\"학점은 F입니다\")#그것도 아니라면 \"학점은 F입니다.\"내용을 출력한다.  "
   ]
  },
  {
   "cell_type": "code",
   "execution_count": 23,
   "id": "82544262",
   "metadata": {},
   "outputs": [
    {
     "name": "stdout",
     "output_type": "stream",
     "text": [
      "숫자를 입력하셔요?5\n",
      "3의 배수가 아닌 홀수입니다\n"
     ]
    }
   ],
   "source": [
    "x=int(input(\"숫자를 입력하셔요?\")) #입력 전 텍스트를 출력한다. \n",
    "if x % 2 == 0 :#만약 입력값에서 나누기 2를 했을때 나머지가 0이면서\n",
    "    if x%4==0: #입력값에서 나누기 4를 했을때 나머지가 0이면\n",
    "        print(\"4의 배수인 짝수입니다(당연히 짝수)\") #해당 텍스트를 출력한다. \n",
    "    else: #아니면 \n",
    "        print(\"4의 배수가 아닌 짝수입니다\"); #해당 텍스트를 출력한다. \n",
    "elif x%3==0: #만약 입력값에서 나누기 3를 했을때 나머지가 0이면\n",
    "    print(\"3의 배수인 홀수 입니다\") #해당 텍스트를 출력한다. \n",
    "else:#아니면 \n",
    "    print (\"3의 배수가 아닌 홀수입니다\")#해당 텍스트를 출력한다. "
   ]
  },
  {
   "cell_type": "code",
   "execution_count": 32,
   "id": "73830b74",
   "metadata": {},
   "outputs": [
    {
     "name": "stdout",
     "output_type": "stream",
     "text": [
      "***************************************************************************\n",
      "\n",
      "총금액:  1000000 원   달러환율:  1010.12\n",
      "지급달러:  988 $\n",
      "거스름돈 5 원   은행수수료:  1996 원\n",
      "***************************************************************************\n",
      "\n"
     ]
    }
   ],
   "source": [
    "MyWon = 1000000 #정수형 변수 MyWon 선언, 바꿀 한화 100만원값 부여\n",
    "MoneyEx = 1010.12#달러환율 실수형 MoneyEx 선언후 1010.12 값 부여\n",
    "commission = 0.002#수수료 실수형 commission변수 선언후 0.002부여\n",
    "usd = int(MyWon / (MoneyEx +ComPerOne)) #실수형 totalcom변수 선언후 환전달러에 수수료값 곱한 값부여\n",
    "#수수료 계산\n",
    "ComPerOne = MoneyEx * commission# 실수형 ComPerOne변수 선언 후 1달러당 수수료 값 부여\n",
    "totalcom = usd * ComPerOne#실수형 totalcom변수 선언후 환전달러에 수수료값 부여\n",
    "#소수점처리를 안할 수 없다.그래서 소수점 올림을 해야한다.\n",
    "if totalcom != float(int(totalcom)):#정수형이랑 값이 다르면\n",
    "    itotalcom = int(totalcom +1)#1원을 더한다.\n",
    "else:#아니면(소수점이 없으면)\n",
    "    itotalcom= int(totalcom)#정수형으로 값을 부여한다.\n",
    "print(\"***************************************************************************\\n\")#교안처럼 출력해본다.\n",
    "print('총금액: ',MyWon,'원   달러환율: ',MoneyEx) #변수값을 순서대로 출력한다.\n",
    "remain = (int) (MyWon - usd*MoneyEx - itotalcom) #고객에게 줄돈은 정수처리(따로 계산없이 바로 정수형으로 처리해서 버림)\n",
    "print('지급달러: ', usd,'$') #교안내용으로 출력 \n",
    "print('거스름돈',remain,'원', '  은행수수료: ',itotalcom,'원') #거스름돈과 수수료 교안에 맞추어 순서대로 출력 \n",
    "#변수값도 순서대로 기입\n",
    "print(\"***************************************************************************\\n\")#출력"
   ]
  },
  {
   "cell_type": "code",
   "execution_count": null,
   "id": "fbae8a81",
   "metadata": {},
   "outputs": [],
   "source": []
  }
 ],
 "metadata": {
  "kernelspec": {
   "display_name": "Python 3 (ipykernel)",
   "language": "python",
   "name": "python3"
  },
  "language_info": {
   "codemirror_mode": {
    "name": "ipython",
    "version": 3
   },
   "file_extension": ".py",
   "mimetype": "text/x-python",
   "name": "python",
   "nbconvert_exporter": "python",
   "pygments_lexer": "ipython3",
   "version": "3.8.8rc1"
  }
 },
 "nbformat": 4,
 "nbformat_minor": 5
}
