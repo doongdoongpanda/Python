{
 "cells": [
  {
   "cell_type": "code",
   "execution_count": 2,
   "id": "5cdd59a9",
   "metadata": {},
   "outputs": [
    {
     "name": "stdout",
     "output_type": "stream",
     "text": [
      "a= 10  b= 1200  c= 1200  d= -1234\n"
     ]
    }
   ],
   "source": [
    "a=10 #변수a에 10을 부여한다.\n",
    "b=1200 #변수 b에 1200을 부여한다.\n",
    "c=+1200 #변수 c에 c+1200을 부여한다.\n",
    "d=-1234 #변수 d에 -1234을 부여한다.\n",
    "print(\"a=\",a,\" b=\",b, \" c=\",c, \" d=\",d) #변수들을 순서대로 출력한다."
   ]
  },
  {
   "cell_type": "code",
   "execution_count": 4,
   "id": "41360b43",
   "metadata": {},
   "outputs": [
    {
     "name": "stdout",
     "output_type": "stream",
     "text": [
      "a+b= 255510442125830710419794796092205501516501430550152055055015215205510\n"
     ]
    }
   ],
   "source": [
    "a=21098134232408921340891340984312089423089341208943120934120894312089 #파이썬은 큰 숫자도 계산이 가능함\n",
    "b=234412307893421789078903455107893412093412089341208934120894320893421 #자바랑 달리 꽤나 자릿수가 높아도 출력해줌\n",
    "print(\"a+b=\", a+b)#a+b를 출력한다."
   ]
  },
  {
   "cell_type": "code",
   "execution_count": 5,
   "id": "d2f14b19",
   "metadata": {},
   "outputs": [
    {
     "data": {
      "text/plain": [
       "10"
      ]
     },
     "execution_count": 5,
     "metadata": {},
     "output_type": "execute_result"
    }
   ],
   "source": [
    "0b1010 #0b~~면 2진수 표현법이다. "
   ]
  },
  {
   "cell_type": "code",
   "execution_count": 6,
   "id": "5c8ef876",
   "metadata": {},
   "outputs": [
    {
     "data": {
      "text/plain": [
       "15"
      ]
     },
     "execution_count": 6,
     "metadata": {},
     "output_type": "execute_result"
    }
   ],
   "source": [
    "0b1111 #15를 2진수로 나타내도 십진수로 계산해 출력해준다."
   ]
  },
  {
   "cell_type": "code",
   "execution_count": 7,
   "id": "133b3369",
   "metadata": {},
   "outputs": [
    {
     "data": {
      "text/plain": [
       "1"
      ]
     },
     "execution_count": 7,
     "metadata": {},
     "output_type": "execute_result"
    }
   ],
   "source": [
    "0b0001 #0001은 1을 2진수로 나타낸 값이다. 이를 출력하면 십진수 1이 나온다"
   ]
  },
  {
   "cell_type": "code",
   "execution_count": 8,
   "id": "0283add5",
   "metadata": {},
   "outputs": [
    {
     "ename": "SyntaxError",
     "evalue": "invalid digit '2' in binary literal (4187922823.py, line 1)",
     "output_type": "error",
     "traceback": [
      "\u001b[1;36m  Input \u001b[1;32mIn [8]\u001b[1;36m\u001b[0m\n\u001b[1;33m    0b0201 #0b~~는 2진수기때문에 해당 명령어는 에러가 난다.\u001b[0m\n\u001b[1;37m       ^\u001b[0m\n\u001b[1;31mSyntaxError\u001b[0m\u001b[1;31m:\u001b[0m invalid digit '2' in binary literal\n"
     ]
    }
   ],
   "source": [
    "0b0201 #0b~~는 2진수기때문에 해당 명령어는 에러가 난다."
   ]
  },
  {
   "cell_type": "code",
   "execution_count": 9,
   "id": "798c5543",
   "metadata": {},
   "outputs": [
    {
     "data": {
      "text/plain": [
       "16"
      ]
     },
     "execution_count": 9,
     "metadata": {},
     "output_type": "execute_result"
    }
   ],
   "source": [
    "0x10 #0x~ 표현하면 뒤에 숫자는 16진수로 나타내준다."
   ]
  },
  {
   "cell_type": "code",
   "execution_count": 10,
   "id": "4ac60ebe",
   "metadata": {},
   "outputs": [
    {
     "data": {
      "text/plain": [
       "26"
      ]
     },
     "execution_count": 10,
     "metadata": {},
     "output_type": "execute_result"
    }
   ],
   "source": [
    "0x1a #26을 16진법으로 나타낸 값이다. 이를 출력하면 십진수 26이 나온다."
   ]
  },
  {
   "cell_type": "code",
   "execution_count": 11,
   "id": "aaa3d0d8",
   "metadata": {
    "scrolled": true
   },
   "outputs": [
    {
     "ename": "SyntaxError",
     "evalue": "invalid syntax (956256824.py, line 1)",
     "output_type": "error",
     "traceback": [
      "\u001b[1;36m  Input \u001b[1;32mIn [11]\u001b[1;36m\u001b[0m\n\u001b[1;33m    0x3z # 16진법값을 초과하였기 때문에 해당 명령어는 에러가 난다.\u001b[0m\n\u001b[1;37m       ^\u001b[0m\n\u001b[1;31mSyntaxError\u001b[0m\u001b[1;31m:\u001b[0m invalid syntax\n"
     ]
    }
   ],
   "source": [
    "0x3z # 16진법값을 초과하였기 때문에 해당 명령어는 에러가 난다."
   ]
  },
  {
   "cell_type": "code",
   "execution_count": 13,
   "id": "9e7e5379",
   "metadata": {},
   "outputs": [
    {
     "name": "stdout",
     "output_type": "stream",
     "text": [
      "0xc\n",
      "0o26\n",
      "0b100001\n"
     ]
    }
   ],
   "source": [
    "print(hex(12));print(oct(22));print(bin(33))\n",
    "#hex()은 16진수로 변환한다는 의미\n",
    "#bin()은 2진수로 변환한다는 의미\n",
    "#oct()은 8진수로 변환한다는 의미"
   ]
  },
  {
   "cell_type": "code",
   "execution_count": 14,
   "id": "2633a301",
   "metadata": {},
   "outputs": [
    {
     "data": {
      "text/plain": [
       "9460000000000.0"
      ]
     },
     "execution_count": 14,
     "metadata": {},
     "output_type": "execute_result"
    }
   ],
   "source": [
    "9.46e12 #1광년=9조 4600억km 의 표현법"
   ]
  },
  {
   "cell_type": "code",
   "execution_count": 15,
   "id": "229b9954",
   "metadata": {},
   "outputs": [
    {
     "data": {
      "text/plain": [
       "1.2131232417683412e+32"
      ]
     },
     "execution_count": 15,
     "metadata": {},
     "output_type": "execute_result"
    }
   ],
   "source": [
    "9.46e12 + 121312324176834127678963412341298 #실수형과 정수형의 연산을 수행하면\n",
    "#유효숫자만큼만 표현되는데 주의해야함"
   ]
  },
  {
   "cell_type": "code",
   "execution_count": 20,
   "id": "a8cb3f02",
   "metadata": {},
   "outputs": [
    {
     "ename": "SyntaxError",
     "evalue": "invalid syntax (3287897822.py, line 1)",
     "output_type": "error",
     "traceback": [
      "\u001b[1;36m  Input \u001b[1;32mIn [20]\u001b[1;36m\u001b[0m\n\u001b[1;33m    a =1 + 2i #허수를 I로 표현하나 파이썬에서는 j로 표현해야한다.\u001b[0m\n\u001b[1;37m            ^\u001b[0m\n\u001b[1;31mSyntaxError\u001b[0m\u001b[1;31m:\u001b[0m invalid syntax\n"
     ]
    }
   ],
   "source": [
    "a =1 + 2i #허수를 I로 표현하나 파이썬에서는 j로 표현해야한다."
   ]
  },
  {
   "cell_type": "code",
   "execution_count": 21,
   "id": "16e4e007",
   "metadata": {
    "scrolled": true
   },
   "outputs": [
    {
     "name": "stdout",
     "output_type": "stream",
     "text": [
      "(2+0j) (5+0j)\n"
     ]
    }
   ],
   "source": [
    "a=1+2j #a는 1+2j다. \n",
    "b=1-2j #b는 1-2j다.\n",
    "print(a+b, a*b) # 허수 j로 받아들여 복소수 연산으로 계산된다."
   ]
  },
  {
   "cell_type": "code",
   "execution_count": 22,
   "id": "1a993f95",
   "metadata": {},
   "outputs": [
    {
     "data": {
      "text/plain": [
       "'aaabbb'"
      ]
     },
     "execution_count": 22,
     "metadata": {},
     "output_type": "execute_result"
    }
   ],
   "source": [
    "a=\"aaa\" #문자열 aaa를 변수 a에 부여한다. \n",
    "b=\"bbb\" #문자열 bbb를 변수 b에 부여한다. \n",
    "a+b #a다음에 b를 이어붇인다.(문자열이기 때문에 이어 붙이는 느낌)"
   ]
  },
  {
   "cell_type": "code",
   "execution_count": 25,
   "id": "4f888a0f",
   "metadata": {},
   "outputs": [
    {
     "ename": "TypeError",
     "evalue": "can't multiply sequence by non-int of type 'str'",
     "output_type": "error",
     "traceback": [
      "\u001b[1;31m---------------------------------------------------------------------------\u001b[0m",
      "\u001b[1;31mTypeError\u001b[0m                                 Traceback (most recent call last)",
      "Input \u001b[1;32mIn [25]\u001b[0m, in \u001b[0;36m<cell line: 1>\u001b[1;34m()\u001b[0m\n\u001b[1;32m----> 1\u001b[0m \u001b[43ma\u001b[49m\u001b[38;5;241;43m*\u001b[39;49m\u001b[43mb\u001b[49m\n",
      "\u001b[1;31mTypeError\u001b[0m: can't multiply sequence by non-int of type 'str'"
     ]
    }
   ],
   "source": [
    "a*b#i문자열 변수에 *를 쓰려면 nt형 변수가 와야한다.\n",
    "#유효하지 않은 명령이다."
   ]
  },
  {
   "cell_type": "code",
   "execution_count": 26,
   "id": "6a4b95b6",
   "metadata": {},
   "outputs": [
    {
     "data": {
      "text/plain": [
       "'aaaaaaaaa'"
      ]
     },
     "execution_count": 26,
     "metadata": {},
     "output_type": "execute_result"
    }
   ],
   "source": [
    "a*3 #aaa가 3번 출력된다."
   ]
  },
  {
   "cell_type": "code",
   "execution_count": 27,
   "id": "8c66faff",
   "metadata": {},
   "outputs": [
    {
     "data": {
      "text/plain": [
       "'bbbbbbbbbbbbbbb'"
      ]
     },
     "execution_count": 27,
     "metadata": {},
     "output_type": "execute_result"
    }
   ],
   "source": [
    "b*5 #b가 5번 출력된다."
   ]
  },
  {
   "cell_type": "code",
   "execution_count": 28,
   "id": "e3bbbb1a",
   "metadata": {},
   "outputs": [
    {
     "name": "stdout",
     "output_type": "stream",
     "text": [
      "호랑이가 \"떡하나 주면 안잡아 먹지\" 라고 말했습니다.\n"
     ]
    }
   ],
   "source": [
    "print ('호랑이가 \"떡하나 주면 안잡아 먹지\" 라고 말했습니다.')\n",
    "# 호랑이가 \"떡하나 주면 안잡아 먹지\" 라고 말했습니다.가 출력된다."
   ]
  },
  {
   "cell_type": "code",
   "execution_count": 29,
   "id": "745df684",
   "metadata": {},
   "outputs": [
    {
     "name": "stdout",
     "output_type": "stream",
     "text": [
      " 호랑이가 \"떡하나 주면 안잡아 먹지\" 라고 말했습니다.\n"
     ]
    }
   ],
   "source": [
    " print (\" 호랑이가 \\\"떡하나 주면 안잡아 먹지\\\" 라고 말했습니다.\")\n",
    "#큰따음표를 출력하려면 작은따음표 안에 큰따음표를 넣어주거나 큰따음표 안에\n",
    "#역슬래시\\하고 큰따음표를 넣어주면 된다."
   ]
  },
  {
   "cell_type": "code",
   "execution_count": 30,
   "id": "56c5bfc7",
   "metadata": {},
   "outputs": [
    {
     "name": "stdout",
     "output_type": "stream",
     "text": [
      "I say \"I Love You\"\n"
     ]
    }
   ],
   "source": [
    "print (\"I say \\\"I Love You\\\"\")\n",
    "#영어도 마찬가지로 큰따음표 안에 문장을 넣을 경우 그 안에 큰따음표는 앞에 \n",
    "#역슬래시를 해준다."
   ]
  },
  {
   "cell_type": "code",
   "execution_count": 31,
   "id": "4e5302fa",
   "metadata": {},
   "outputs": [
    {
     "ename": "SyntaxError",
     "evalue": "invalid syntax (3695169677.py, line 1)",
     "output_type": "error",
     "traceback": [
      "\u001b[1;36m  Input \u001b[1;32mIn [31]\u001b[1;36m\u001b[0m\n\u001b[1;33m    print (\"I say \"I Love You\"\")\u001b[0m\n\u001b[1;37m                   ^\u001b[0m\n\u001b[1;31mSyntaxError\u001b[0m\u001b[1;31m:\u001b[0m invalid syntax\n"
     ]
    }
   ],
   "source": [
    "print (\"I say \"I Love You\"\")\n",
    "#큰따음표 안에 똑같이 큰따음표를 하게 되면 다음과 같이 애러가 난다."
   ]
  },
  {
   "cell_type": "code",
   "execution_count": 32,
   "id": "01c260be",
   "metadata": {},
   "outputs": [
    {
     "name": "stdout",
     "output_type": "stream",
     "text": [
      "오늘 열심히 파이썬을 공부했습니다. \n",
      "내일도 열심히 파이썬을 공부할 것입니다. \n",
      "그래서 일등할 것입니다\n"
     ]
    }
   ],
   "source": [
    "print(\"\"\"오늘 열심히 파이썬을 공부했습니다. \n",
    "내일도 열심히 파이썬을 공부할 것입니다. \n",
    "그래서 일등할 것입니다\"\"\")\n",
    "#큰따음표 세개를 사용하면 다음 세 개의 따옴표가 나올 때까지 \n",
    "#줄을 바꾸어서 사용할 수 있다. 단 줄 바뀜이 그대로 표현된다."
   ]
  },
  {
   "cell_type": "code",
   "execution_count": 33,
   "id": "4788eda2",
   "metadata": {},
   "outputs": [
    {
     "name": "stdout",
     "output_type": "stream",
     "text": [
      "오늘은즐거운일요일\n"
     ]
    }
   ],
   "source": [
    "a = \"오늘은\" \"즐거운\" \"일요일\"\n",
    "print(a) #작은 문자열을 나열하여 사용 가능하다. C, Java에서는 허용되지 않는다."
   ]
  },
  {
   "cell_type": "code",
   "execution_count": 34,
   "id": "6d0fc69d",
   "metadata": {},
   "outputs": [
    {
     "name": "stdout",
     "output_type": "stream",
     "text": [
      "오늘 열심히 파이썬을 공부했습니다. \n",
      "내일도 열심히 파이썬을 공부할 것입니다. \n",
      "그래서 일등할 것입니다\n"
     ]
    }
   ],
   "source": [
    " print(\"오늘 열심히 파이썬을 공부했습니다. \\n\"\n",
    "\"내일도 열심히 파이썬을 공부할 것입니다. \\n\"\n",
    "\"그래서 일등할 것입니다\") #컴마, + 기호 없이도 큰따음표로 나눠서 출력가능."
   ]
  },
  {
   "cell_type": "code",
   "execution_count": 36,
   "id": "203655b9",
   "metadata": {},
   "outputs": [
    {
     "name": "stdout",
     "output_type": "stream",
     "text": [
      "오늘 열심히 파이썬을 공부했습니다. 내일도 열심히 파이썬을 공부할 것입니다. 그래서 일등할 것입니다\n"
     ]
    }
   ],
   "source": [
    "print(\"오늘 열심히 파이썬을 공부했습니다. \\\n",
    "내일도 열심히 파이썬을 공부할 것입니다. \\\n",
    "그래서 일등할 것입니다\") #큰따음표 안에 (\\)명령어 연장 방법으로도 표현할 수 있다."
   ]
  },
  {
   "cell_type": "code",
   "execution_count": 39,
   "id": "27b10b39",
   "metadata": {},
   "outputs": [
    {
     "data": {
      "text/plain": [
       "False"
      ]
     },
     "execution_count": 39,
     "metadata": {},
     "output_type": "execute_result"
    }
   ],
   "source": [
    "#부울대수 연산을 위한 자료형으로 비교문의 기본이다. \n",
    "a = True #a는 True이다. \n",
    "b = False #b는 False다. \n",
    "a and b #a이면서 b여야하는데 둘이 값이 다르므로 False가 출력된다. "
   ]
  },
  {
   "cell_type": "code",
   "execution_count": 40,
   "id": "ba89aa0a",
   "metadata": {},
   "outputs": [
    {
     "data": {
      "text/plain": [
       "True"
      ]
     },
     "execution_count": 40,
     "metadata": {},
     "output_type": "execute_result"
    }
   ],
   "source": [
    "a or b #a 또는 b이므로 True로 출력된다."
   ]
  },
  {
   "cell_type": "code",
   "execution_count": 41,
   "id": "0fdb7dd8",
   "metadata": {},
   "outputs": [
    {
     "data": {
      "text/plain": [
       "True"
      ]
     },
     "execution_count": 41,
     "metadata": {},
     "output_type": "execute_result"
    }
   ],
   "source": [
    "a = 0 #0가 a에 부여된다. \n",
    "b = a == 0 # a의 값이 0인지 진위여부 \n",
    "b #b의 값이 출력된다. "
   ]
  },
  {
   "cell_type": "code",
   "execution_count": 42,
   "id": "31104cf7",
   "metadata": {},
   "outputs": [
    {
     "name": "stdout",
     "output_type": "stream",
     "text": [
      "참\n"
     ]
    }
   ],
   "source": [
    "a= True #a는 true 다 \n",
    "b= False #b는 false다 \n",
    "if 1 > 2 and a and b or b or a: #만약 1>2면서 a면서 b이거나 b또는 a면 \n",
    "    print(\"참\") #참을 출력한다. \n",
    "else: #아니면 \n",
    "    print(\"거짓\") #거짓을 출력한다. 콘솔창에 참이 출력된다. "
   ]
  },
  {
   "cell_type": "code",
   "execution_count": 43,
   "id": "16d51923",
   "metadata": {},
   "outputs": [
    {
     "name": "stdout",
     "output_type": "stream",
     "text": [
      "['빨', '주', '노', '초', '파', '남', '보']\n"
     ]
    }
   ],
   "source": [
    "#컬렉션 중 리스트 많이 사용한다. 리스트는 []안에 값을 나열하는 형식 \n",
    "rainbow = [\"빨\",\"주\",\"노\",\"초\",\"파\",\"남\",\"보\"]\n",
    "print(rainbow) #리스트를 출력한다. "
   ]
  },
  {
   "cell_type": "code",
   "execution_count": 45,
   "id": "5bf5948b",
   "metadata": {},
   "outputs": [],
   "source": [
    "rainbow =  [\"빨강\",\"주황\",\"노랑\",\"초록\",\"파랑\",\"남색\",\"보라\"] #리스트안에\n",
    "#빨강, 주황, 노랑, 초록, 파랑, 남색, 보라를 담는다. "
   ]
  },
  {
   "cell_type": "code",
   "execution_count": 47,
   "id": "4a356834",
   "metadata": {
    "scrolled": true
   },
   "outputs": [
    {
     "name": "stdout",
     "output_type": "stream",
     "text": [
      "빨강 색\n",
      "주황 색\n",
      "노랑 색\n",
      "초록 색\n",
      "파랑 색\n",
      "남색 색\n",
      "보라 색\n"
     ]
    }
   ],
   "source": [
    "for color in rainbow : #for문으로 하위 명령문을 반복한다. \n",
    "    print( color, \"색\") #rainbow안에 값을 순서대로 출력한다."
   ]
  },
  {
   "cell_type": "code",
   "execution_count": 49,
   "id": "c28d8ab2",
   "metadata": {},
   "outputs": [
    {
     "name": "stdout",
     "output_type": "stream",
     "text": [
      "빨강 색\n",
      "주황 색\n",
      "노랑 색\n",
      "초록 색\n",
      "파랑 색\n",
      "남색 색\n",
      "보라 색\n"
     ]
    }
   ],
   "source": [
    "#리스트와 유사항 튜플이라는 자료형도 있다.\n",
    "#튜플은 내용을 바꿀 수 없으며, []대신 ()으로 표시한다.\n",
    "rainbow = (\"빨강\",\"주황\",\"노랑\",\"초록\",\"파랑\",\"남색\",\"보라\") #튜플안에 \n",
    "#빨강, 주황, 노랑, 초록, 파랑, 남색, 보라를 담는다.\n",
    "for color in rainbow : #for문으로 하위 명령문을 반복한다. \n",
    "    print ( color, \"색\")#rainbow안에 값을 순서대로 출력한다."
   ]
  },
  {
   "cell_type": "code",
   "execution_count": null,
   "id": "d1a834de",
   "metadata": {},
   "outputs": [],
   "source": []
  }
 ],
 "metadata": {
  "kernelspec": {
   "display_name": "Python 3 (ipykernel)",
   "language": "python",
   "name": "python3"
  },
  "language_info": {
   "codemirror_mode": {
    "name": "ipython",
    "version": 3
   },
   "file_extension": ".py",
   "mimetype": "text/x-python",
   "name": "python",
   "nbconvert_exporter": "python",
   "pygments_lexer": "ipython3",
   "version": "3.8.8rc1"
  }
 },
 "nbformat": 4,
 "nbformat_minor": 5
}
