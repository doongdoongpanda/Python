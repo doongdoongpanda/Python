{
 "cells": [
  {
   "cell_type": "code",
   "execution_count": 1,
   "id": "c3a7676d",
   "metadata": {},
   "outputs": [
    {
     "name": "stdout",
     "output_type": "stream",
     "text": [
      "별10개 찍기\n",
      "**********\n",
      "\n",
      "별3개 찍기\n",
      "***\n",
      "\n",
      "별5개 찍기\n",
      "*****\n",
      "\n"
     ]
    }
   ],
   "source": [
    "print(\"별10개 찍기\") #텍스트를 출력한다. \n",
    "for i in range(10): #0부터 10까지 반복한다. \n",
    "    print(\"*\",end=\"\") #문자열 *을 출력한다.  \n",
    "print(\"\\n\") #반복문이 끝나면 줄내림을 한다. \n",
    "\n",
    "print(\"별3개 찍기\") #텍스트를 출력한다. \n",
    "for i in range(3):#0부터 3까지 반복한다. \n",
    "    print(\"*\",end=\"\")#문자열 *을 출력한다.  \n",
    "print(\"\\n\")#반복문이 끝나면 줄내림을 한다. \n",
    "\n",
    "print(\"별5개 찍기\") #텍스트를 출력한다. \n",
    "for i in range(5):#0부터 5까지 반복한다. \n",
    "    print(\"*\",end=\"\")#문자열 *을 출력한다.  \n",
    "print(\"\\n\") #반복문이 끝나면 줄내림을 한다. "
   ]
  },
  {
   "cell_type": "code",
   "execution_count": 2,
   "id": "c01398e3",
   "metadata": {},
   "outputs": [
    {
     "name": "stdout",
     "output_type": "stream",
     "text": [
      "별10개 찍기\n",
      "**********\n",
      "\n",
      "별3개 찍기\n",
      "***\n",
      "\n",
      "별5개 찍기\n",
      "*****\n",
      "\n"
     ]
    }
   ],
   "source": [
    "def starprint(n): #중복되는 내용을 함수화시켜준다.\n",
    "    for i in range(n):#0부터 n까지 반복한다. \n",
    "        print(\"*\",end=\"\")#문자열 *을 출력한다.  \n",
    "    print(\"\\n\") #반복문이 끝나면 줄내림을 한다.\n",
    "    \n",
    "print(\"별10개 찍기\");starprint(10) #텍스트를 출력하고 숫자형 10에 대한 starprint함수를 실행한다.\n",
    "print(\"별3개 찍기\");starprint(3)#텍스트를 출력하고 숫자형 3에 대한 starprint함수를 실행한다.\n",
    "print(\"별5개 찍기\");starprint(5)#텍스트를 출력하고 숫자형 5에 대한 starprint함수를 실행한다."
   ]
  },
  {
   "cell_type": "code",
   "execution_count": 3,
   "id": "b0307ff3",
   "metadata": {},
   "outputs": [
    {
     "name": "stdout",
     "output_type": "stream",
     "text": [
      "1~10까지의 합: 55\n",
      "1~1000까지의 합: 500500\n",
      "1~10000까지의 합: 50005000\n"
     ]
    }
   ],
   "source": [
    "def intsum(n): #n을 인수라고 함 \n",
    "    sum=0; #sum에 0을 부여한다. \n",
    "    for i in range(1,n+1,1): #1부터 n+1까지 반복문을 실행한다. 1씩증가한다. \n",
    "        sum+=i # sum = sum+i 해준다. 1,3,6...55가된다. \n",
    "    return sum #sum을 호출한 곳으로 리턴한다. \n",
    "\n",
    "print(\"1~10까지의 합:\",intsum(10))#텍스트를 출력하고 숫자형 10에 대한 intsum함수를 실행한다.\n",
    "print(\"1~1000까지의 합:\",intsum(1000))#텍스트를 출력하고 숫자형 1000에 대한 intsum함수를 실행한다.\n",
    "print(\"1~10000까지의 합:\",intsum(10000)) #텍스트를 출력하고 숫자형 10000에 대한 intsum함수를 실행한다."
   ]
  },
  {
   "cell_type": "code",
   "execution_count": 6,
   "id": "650db472",
   "metadata": {},
   "outputs": [
    {
     "name": "stdout",
     "output_type": "stream",
     "text": [
      "1~10까지의 합에 5를 더함: 60\n",
      "100~1000까지의 합에 33을 곱함: 16353150\n"
     ]
    }
   ],
   "source": [
    "def intsum(x,y): #n을 인수로 하는 intsum 함수를 만듦.\n",
    "    sum=0; #sum에 0을 부여한다. \n",
    "    for i in range(x,y+1,1): #x부터 y+1까지 반복문을 실행한다. 1씩증가한다. \n",
    "        sum+=i # sum = sum+i 해준다.\n",
    "    return sum  #sum을 호출한 곳으로 리턴한다.\n",
    "print(\"1~10까지의 합에 5를 더함:\",intsum(1,10)+5) #텍스트를 출력하고 숫자형 1,10에 대한 intsum함수를 실행한 후 \n",
    "#+5를 한 값을 출력한다\n",
    "i=intsum(100,1000)*33  #i는 intsum함수 실행 후 33을 곱한 값이다.\n",
    "print(\"100~1000까지의 합에 33을 곱함:\",i)#텍스트를 출력하고 i를 출력한다."
   ]
  },
  {
   "cell_type": "code",
   "execution_count": 8,
   "id": "e01bd244",
   "metadata": {},
   "outputs": [
    {
     "name": "stdout",
     "output_type": "stream",
     "text": [
      "함수내부에서 sum값을 출력: 495550\n",
      "100~1000까지의 합: None\n",
      "100~1000까지의 합에 33을 곱함: None\n"
     ]
    }
   ],
   "source": [
    "#리턴값이 없는 예제\n",
    "def intsum(x,y): #인수 x,y값에 대한 함수 정의 \n",
    "    sum=0; #sum에 0을 부여한다. \n",
    "    for i in range(x,y+1,1): # x부터 y+1까지 반복하고 1씩 증가한다.\n",
    "        sum+=i #sum에 i를 더해준다.\n",
    "    print(\"함수내부에서 sum값을 출력:\",sum) #반복문이 끝나면 sum을 출력한다.\n",
    "#함수에 리턴이 없기때문에 변수로 값을 받으면 none이라는 값이 들어감\n",
    "i=intsum(100,1000) #함수를 변수로 받는다. \n",
    "print(\"100~1000까지의 합:\",i) #변수를 출력한다. none이 나온다. \n",
    "print(\"100~1000까지의 합에 33을 곱함:\",i) #변수를 출력한다. 마찬가지로 noe이 나온다."
   ]
  },
  {
   "cell_type": "code",
   "execution_count": 15,
   "id": "549f792d",
   "metadata": {},
   "outputs": [
    {
     "name": "stdout",
     "output_type": "stream",
     "text": [
      "==================================================\n",
      "이름\t국어\t영어\t수학\t총점\t평균\n",
      "==================================================\n",
      "나연 \t 100 \t 90 \t 100 \t 290 \t 96\n",
      "정연 \t 100 \t 100 \t 80 \t 280 \t 93\n",
      "모모 \t 90 \t 100 \t 100 \t 290 \t 96\n",
      "사나 \t 90 \t 80 \t 90 \t 260 \t 86\n",
      "지효 \t 100 \t 100 \t 100 \t 300 \t 100\n",
      "미나 \t 80 \t 70 \t 90 \t 240 \t 80\n",
      "다현 \t 70 \t 60 \t 100 \t 230 \t 76\n",
      "채영 \t 80 \t 100 \t 90 \t 270 \t 90\n",
      "쯔위 \t 100 \t 100 \t 100 \t 300 \t 100\n",
      "==================================================\n",
      "반총점\t 810 \t 800 \t 850 \t 273 \t 91.0\n",
      "==================================================\n"
     ]
    }
   ],
   "source": [
    "#작성했던 pass지우고 코팅내용을 채워준다.\n",
    "def titleprint(): #함수 titleprint설정\n",
    "    print(\"=\"*50) #문자열 =을 50개 출력한다. \n",
    "    print(\"이름\\t국어\\t영어\\t수학\\t총점\\t평균\")#텍스트를 출력한다.\n",
    "    print(\"=\"*50) #문자열 *을 50개 출력한다.\n",
    "\n",
    "def itemprint(name,kor,eng,mat):#함수 itemprint고 name,kortotal,engtotal,mathtotal를 인수로 받는다.\n",
    "    print(name,\"\\t\",kor,\"\\t\",eng,\"\\t\",mat,\"\\t\",kor+eng+mat,\"\\t\",(kor+eng+mat)//3) #헤더 내용을 출력한다.\n",
    "\n",
    "def tailprint():#함수 tailprint 를 실행한다. 총점출력을 할 영역이다.\n",
    "    totkor=0 #변수 totkor에 숫자형 0을 부여한다. \n",
    "    for i in ckor: #리스트 ckor에 대한 for문을 연다. \n",
    "        totkor+=i #i를 전부 더한다. \n",
    "    toteng=0#변수  toteng에 숫자형 0을 부여한다. \n",
    "    for i in ceng:#리스트 ceng에 대한 for문을 연다.\n",
    "        toteng+=i #i를 전부 더한다. \n",
    "    totmat=0#변수  totmat에 숫자형 0을 부여한다. \n",
    "    for i in cmat:#리스트 cmat에 대한 for문을 연다.\n",
    "        totmat+=i #i를 전부 더한다. \n",
    "    print(\"=\"*50) #문자열 =을 50개 출력한다.\n",
    "    print(\"반총점\\t\",totkor,\"\\t\",toteng,\"\\t\",totmat,\"\\t\" #텍스트를 순서대로 출력한다. \n",
    "        ,(totkor+toteng+totmat)//9,\"\\t\",(totkor+toteng+totmat)/3//9)\n",
    "    print(\"=\"*50)#문자열 =을 50개 출력한다.\n",
    "\n",
    "#데이터를 입력해준다.\n",
    "cname=[\"나연\",\"정연\",\"모모\",\"사나\",\"지효\",\"미나\",\"다현\",\"채영\",\"쯔위\"] #cname리스트에 대한 내용이다.\n",
    "ckor =[ 100,100,90,90,100,80,70,80,100]#ckor리스트에 대한 내용이다.\n",
    "ceng =[ 90,100,100,80,100,70,60,100,100]#ceng리스트에 대한 내용이다.\n",
    "cmat =[ 100,80,100,90,100,90,100,90,100]#cmat리스트에 대한 내용이다\n",
    "\n",
    "#프로그램 실행부분\n",
    "titleprint() #다음으로 실행한다. \n",
    "for i in range(9):#0부터 9까지 실행하는 for 반복문을 연다. \n",
    "    itemprint(cname[i],ckor[i],ceng[i],cmat[i]) #함수 itemprint를 실행한다. \n",
    "tailprint() #반복문이 끝아면 tailprint를 실행한다."
   ]
  },
  {
   "cell_type": "code",
   "execution_count": 17,
   "id": "e43abdb7",
   "metadata": {},
   "outputs": [
    {
     "name": "stdout",
     "output_type": "stream",
     "text": [
      "case 1: 1\n",
      "case 2: 7\n",
      "case 3: 9505\n"
     ]
    }
   ],
   "source": [
    "#가변인수 연습\n",
    "def sumsum(*num): #인수의 개수가 여러개를 보낼 때 인수 명에 *을 붙여서 사용\n",
    "    sum=0 #변수  sum에 숫자형 0을 부여한다.\n",
    "    for i in num: #num에 대한 for문을 연다\n",
    "        sum+=i #sum 은 sum + i다. \n",
    "    return sum #sum을 리턴한다. \n",
    "\n",
    "print(\"case 1:\", sumsum(1)) #1에 대한 sumsum 함수를 수행한 값을 텍스트와 함께 출력한다. \n",
    "print(\"case 2:\", sumsum(1,2,4)) #1,2,4에 대한 sumsum 함수를 수행한 값을 텍스트와 함께 출력한다. \n",
    "print(\"case 3:\", sumsum(1,2,34,567,8901)) #1,2,34,567,8901에 대한 sumsum 함수를 수행한 값을 텍스트와 함께 출력한다. "
   ]
  },
  {
   "cell_type": "code",
   "execution_count": 19,
   "id": "e6efe7b2",
   "metadata": {},
   "outputs": [
    {
     "name": "stdout",
     "output_type": "stream",
     "text": [
      "case 1: 1\n",
      "case 2: 7\n",
      "case 3: 9505\n"
     ]
    }
   ],
   "source": [
    "#위에와 다른 방식으로 같은 결과 도출\n",
    "def sumsum(num): #*을 없애고 리스트로 값을 입력\n",
    "    sum=0#변수  sum에 숫자형 0을 부여한다.\n",
    "    for i in num:#sum 은 sum + i다. \n",
    "        sum+=i #sum 은 sum + i다. \n",
    "    return sum#sum을 리턴한다. \n",
    "\n",
    "print(\"case 1:\", sumsum([1])) #리스트 [1]에 대한 sumsum 함수를 수행한 값을 텍스트와 함께 출력한다. \n",
    "print(\"case 2:\", sumsum([1,2,4])) #리스트[1,2,4]에 대한 sumsum 함수를 수행한 값을 텍스트와 함께 출력한다.\n",
    "print(\"case 3:\", sumsum([1,2,34,567,8901])) #리스트[1,2,34,567,8901]에 대한 sumsum 함수를 수행한 값을 텍스트와 함께 출력한다. "
   ]
  },
  {
   "cell_type": "code",
   "execution_count": 20,
   "id": "6baa25d3",
   "metadata": {},
   "outputs": [
    {
     "name": "stdout",
     "output_type": "stream",
     "text": [
      "case 1: 55\n",
      "case 2: 3825\n",
      "case 3: 495550\n"
     ]
    }
   ],
   "source": [
    "def defaultest (start,end=1000,step=1): #start, end, step을 인수로 가지는 defaultest 함수를 실행한다.\n",
    "    sum=0 #변수 sum에 숫자형 0을 부여한다.\n",
    "    for i in range(start,end+1,step): #start로 시작하고 step으로 증가하여 end+1전까지 회전하는 for문을 연다.\n",
    "        sum+=i #sum 은 sum + i다. \n",
    "    return sum #sum을 리턴한다. \n",
    "\n",
    "print(\"case 1:\", defaultest(0,10,1)) #0,10,1에 대한 defaultest함수를 수행한 값을 텍스트와 함께 출력한다. \n",
    "#인수를 생략하면 맨뒤는 디폴트값이 1로 기본값을 가진다.\n",
    "print(\"case 2:\", defaultest(50,100))  #50,100에 대한 defaultest함수를 수행한 값을 텍스트와 함께 출력한다.\n",
    "#end값이 1000으로 기본값 처리 된다.\n",
    "print(\"case 3:\", defaultest(100))  #100에 대한 defaultest함수를 수행한 값을 텍스트와 함께 출력한다. "
   ]
  },
  {
   "cell_type": "code",
   "execution_count": 23,
   "id": "cb314c97",
   "metadata": {},
   "outputs": [
    {
     "name": "stdout",
     "output_type": "stream",
     "text": [
      "case 1: 55\n",
      "case 2: 55\n",
      "case 3: 55\n",
      "case 4: 55\n",
      "case 5: 55\n"
     ]
    }
   ],
   "source": [
    "#키워드 인수\n",
    "def defaultest (start,end=1000,step=1): #start, end, step을 인수로 가지는 defaultest 함수를 실행한다.\n",
    "    sum=0#변수 sum에 숫자형 0을 부여한다.\n",
    "    for i in range(start,end+1,step):#start로 시작하고 step으로 증가하여 end+1전까지 회전하는 for문을 연다.\n",
    "        sum+=i #sum 은 sum + i다. \n",
    "    return sum #sum을 리턴한다. \n",
    "\n",
    "print(\"case 1:\", defaultest(0,10,1))#0,10,1에 대한 defaultest함수를 수행한 값을 텍스트와 함께 출력한다. \n",
    "print(\"case 2:\", defaultest(start=0,end=10,step=1))#키워드 지정시 순서가 상관없음\n",
    "print(\"case 3:\", defaultest(step=1,end=10,start=0))#순서바뀌어도 같은 값이 출력된다.\n",
    "print(\"case 4:\", defaultest(0,10,step=1))#자리에 맞는 숫자기입하였으므로 마찬가지로 같은 값이 나온다.\n",
    "print(\"case 5:\", defaultest(0,step=1,end=10)) #맨뒤로 부터만 키워드 인수를 사용하고 앞은 일반인수"
   ]
  },
  {
   "cell_type": "code",
   "execution_count": 26,
   "id": "1eb4360d",
   "metadata": {},
   "outputs": [
    {
     "name": "stdout",
     "output_type": "stream",
     "text": [
      "case 1: 55\n",
      "case 2: 5005\n"
     ]
    }
   ],
   "source": [
    "#키워드가변도 가능하다. 이경우는 별 두개로 정의한다.\n",
    "def testfunc (**args): #인수전달 개수가 가변이므로 별두개를 붙임\n",
    "    start=args[\"start\"] #함수 호출 시 키워드 인수 방식으로 호출 하여야 함\n",
    "    end=args[\"end\"] # 키워드 가변한다.\n",
    "    step=args[\"step\"] # 키워드 가변한다.\n",
    "    sum=0#변수 sum에 숫자형 0을 부여한다.\n",
    "    for i in range(start,end+1,step):#start로 시작하고 step으로 증가하여 end+1전까지 회전하는 for문을 연다.\n",
    "        sum+=i#sum 은 sum + i다. \n",
    "    return sum #sum을 리턴한다.\n",
    "\n",
    "print(\"case 1:\", testfunc(start=0,end=10,step=1))#0부터 10까지 합이 출력된다.\n",
    "print(\"case 2:\", testfunc(end=100,step=1,start=10))#변수지정되었기 때문에 순서바뀌어도 숫자만 기입한 값과 똑같이 출력된다."
   ]
  },
  {
   "cell_type": "code",
   "execution_count": 28,
   "id": "809a38d6",
   "metadata": {},
   "outputs": [
    {
     "name": "stdout",
     "output_type": "stream",
     "text": [
      "==============================\n",
      "***********\n",
      "\n",
      "&&&&&&&&&&&\n",
      "\n",
      "===========\n",
      "\n",
      "==============================\n",
      "   ********\n",
      "\n",
      "   ????????\n",
      "\n",
      "   ========\n",
      "\n",
      "   %%%%%%%%\n",
      "\n"
     ]
    }
   ],
   "source": [
    "#가변, 키워드 가변을 섞어서 사용하는 것도 가능함\n",
    "def testfunc (*s,**args): #인수명이 가변이고 인수전달 개수가 가변이므로 s에 별하나 args에 별두개를 붙임\n",
    "    start=args[\"start\"]# 키워드 가변한다.\n",
    "    end=args[\"end\"]# 키워드 가변한다. \n",
    "    step=args[\"step\"] # 키워드 가변한다.\n",
    "    for c in s: #s만큼 c를 반복시켜준다. \n",
    "        print(\" \"*start,end=\"\")\n",
    "        for i in range(start,end+1,step):\n",
    "            print(c,end=\"\")\n",
    "        print(\"\\n\")\n",
    "\n",
    "print(\"=\"*30) #=를 30번 출력한다. \n",
    "testfunc(\"*\",\"&\",\"=\",start=0,end=10,step=1)#\"*\",\"&\",\"=\"를 testfunc함수안에 명령에 따라 각각 10개 출력한다. \n",
    "print(\"=\"*30)#=를 30번 출력한다. \n",
    "testfunc(\"*\",\"?\",\"=\",\"%\",start=3,end=10,step=1)#\"*\",\"?\",\"=\",\"%\"를 testfunc함수안에 명령에 따라 각각 8개 출력한다. "
   ]
  },
  {
   "cell_type": "code",
   "execution_count": 29,
   "id": "c6a22757",
   "metadata": {},
   "outputs": [
    {
     "ename": "NameError",
     "evalue": "name 'a' is not defined",
     "output_type": "error",
     "traceback": [
      "\u001b[1;31m---------------------------------------------------------------------------\u001b[0m",
      "\u001b[1;31mNameError\u001b[0m                                 Traceback (most recent call last)",
      "Input \u001b[1;32mIn [29]\u001b[0m, in \u001b[0;36m<cell line: 5>\u001b[1;34m()\u001b[0m\n\u001b[0;32m      2\u001b[0m     a\u001b[38;5;241m=\u001b[39m\u001b[38;5;241m1\u001b[39m \u001b[38;5;66;03m#a에 1을 부여한다. \u001b[39;00m\n\u001b[0;32m      4\u001b[0m test() \u001b[38;5;66;03m#함수 test를 실행한다.\u001b[39;00m\n\u001b[1;32m----> 5\u001b[0m \u001b[38;5;28mprint\u001b[39m(\u001b[43ma\u001b[49m)\n",
      "\u001b[1;31mNameError\u001b[0m: name 'a' is not defined"
     ]
    }
   ],
   "source": [
    "def test():#함수 test를 연다.\n",
    "    a=1 #a에 1을 부여한다. \n",
    "    \n",
    "test() #함수 test를 실행한다.\n",
    "print(a) #a가 지역변수이기 때문에 에러가 발생한다."
   ]
  },
  {
   "cell_type": "code",
   "execution_count": 30,
   "id": "0bd6427f",
   "metadata": {},
   "outputs": [
    {
     "name": "stdout",
     "output_type": "stream",
     "text": [
      "testf1: 1\n",
      "testf2: 즐거운 실습\n",
      "testf3: 3.141592\n",
      "랄랄라\n"
     ]
    }
   ],
   "source": [
    "def testf1():#함수 test1를 연다.\n",
    "    a=1#a에 숫자형 1을 부여한다. (지역함수)\n",
    "    print(\"testf1:\",a)#텍스트와 a를 출력한다.\n",
    "    \n",
    "def testf2():#함수 test2를 연다.\n",
    "    a=\"즐거운 실습\"#a에 문자열 \"즐거운 실습\"을 부여한다.(지역함수) \n",
    "    print(\"testf2:\",a)#텍스트와 a를 출력한다.\n",
    "    \n",
    "def testf3():#함수 test3를 연다.\n",
    "    a=3.141592 #a에 숫자형 3.141592을 부여한다. (지역함수)\n",
    "    print(\"testf3:\",a)#텍스트와 a를 출력한다.\n",
    "    \n",
    "testf1()#함수 test1내용을 수행한다.\n",
    "testf2()#함수 test2내용을 수행한다.\n",
    "testf3()#함수 test3내용을 수행한다.\n",
    "a=\"랄랄라\" #전역함수 a에 랄랄라를 부여한다. \n",
    "print(a)#전역함수 a를 출력한다."
   ]
  },
  {
   "cell_type": "code",
   "execution_count": 31,
   "id": "5d95c92f",
   "metadata": {},
   "outputs": [
    {
     "name": "stdout",
     "output_type": "stream",
     "text": [
      "testf1: 현재 달러환율은 1달러당  1021 원이며\n",
      "testf1: 미화 100달러는  102100 원 입니다\n",
      "testf1: 현재 달러환율은 1달러당  1120 원이며\n",
      "testf1: 미화 100달러는  112000 원 입니다\n",
      "testf2: 현재 달러환율은 1달러당  1011 원이며\n",
      "testf2: 미화 100달러는  101100 원 입니다\n",
      "testf1: 현재 달러환율은 1달러당  1120 원이며\n",
      "testf1: 미화 100달러는  112000 원 입니다\n"
     ]
    }
   ],
   "source": [
    "def testf1():#함수 test1를 연다.\n",
    "    print(\"testf1: 현재 달러환율은 1달러당 \",exrate,\"원이며\")#텍스트와 exrate를 출력한다.\n",
    "    print(\"testf1: 미화 100달러는 \",100*exrate,\"원 입니다\")#텍스트와 exrate를 출력한다.\n",
    "    \n",
    "def testf2():#함수 test2를 연다.\n",
    "    exrate=1011 #지역함수exrate에값을 설정한다.  \n",
    "    print(\"testf2: 현재 달러환율은 1달러당 \",exrate,\"원이며\")#텍스트와 exrate를 출력한다.\n",
    "    print(\"testf2: 미화 100달러는 \",100*exrate,\"원 입니다\")#텍스트와 exrate를 출력한다.\n",
    "    \n",
    "exrate=1021 #전역함수exrate에값을 설정한다. \n",
    "testf1()#함수 test1내용을 수행한다.\n",
    "exrate=1120#전역함수exrate에값을 설정한다. \n",
    "testf1()#함수 test1내용을 수행한다.\n",
    "\n",
    "testf2() #exrate=1011값으로 출력된다. \n",
    "testf1() #exrate=1120값으로 출력된다."
   ]
  },
  {
   "cell_type": "code",
   "execution_count": 34,
   "id": "3cd7dbf3",
   "metadata": {},
   "outputs": [
    {
     "name": "stdout",
     "output_type": "stream",
     "text": [
      "Help on function testf1 in module __main__:\n",
      "\n",
      "testf1()\n",
      "    이 함수는 홍필두교수님께서 최선을 다하여 멋지게 만든 함수\n",
      "    인수 값에 숫자만큼 1부터 해당 값을 더한 값을 출력해 준다\n",
      "\n"
     ]
    }
   ],
   "source": [
    "def testf1():#함수 test1를 연다.\n",
    "    \"\"\" \n",
    "이 함수는 홍필두교수님께서 최선을 다하여 멋지게 만든 함수\n",
    "인수 값에 숫자만큼 1부터 해당 값을 더한 값을 출력해 준다\n",
    "\"\"\"#큰따음표 세개면 다음 큰따음표까지 모든내용이 그대로 출력된다. \n",
    "    sum=0#변수 sum에 숫자형 0을 부여한다.\n",
    "    for i in range(n+1): ##n+1만큼 i를 반복시켜준다. \n",
    "        sum+=i#sum 은 sum + i다. \n",
    "    print(\"합:\",sum) #for문이 끝나면 텍스트와 sum을 출력한다.\n",
    "    \n",
    "# 프로그램에서(특히 대화식 모드) 해당함수가 궁금할 때 사용한다.\n",
    "help(testf1)#내장 함수나 다른 오픈 라이브러리를 가져다 사용할 때, 사용할 함수가 궁금할 때 help사용"
   ]
  },
  {
   "cell_type": "code",
   "execution_count": null,
   "id": "99e87c28",
   "metadata": {},
   "outputs": [],
   "source": []
  }
 ],
 "metadata": {
  "kernelspec": {
   "display_name": "Python 3 (ipykernel)",
   "language": "python",
   "name": "python3"
  },
  "language_info": {
   "codemirror_mode": {
    "name": "ipython",
    "version": 3
   },
   "file_extension": ".py",
   "mimetype": "text/x-python",
   "name": "python",
   "nbconvert_exporter": "python",
   "pygments_lexer": "ipython3",
   "version": "3.8.8rc1"
  }
 },
 "nbformat": 4,
 "nbformat_minor": 5
}
