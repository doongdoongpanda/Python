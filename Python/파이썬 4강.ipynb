{
 "cells": [
  {
   "cell_type": "code",
   "execution_count": 2,
   "id": "0d2152b7",
   "metadata": {},
   "outputs": [
    {
     "data": {
      "text/plain": [
       "(3, 4, 2859)"
      ]
     },
     "execution_count": 2,
     "metadata": {},
     "output_type": "execute_result"
    }
   ],
   "source": [
    "a=3 #3을 a에 부여한다. \n",
    "b=4 #4를 b에 부여한다. \n",
    "c=123+456*6 #c에 123+456*6 를 부여한다. 2859가 출력된다. \n",
    "a,b,c #변수 a,b,c를 순서대로 출력한다."
   ]
  },
  {
   "cell_type": "code",
   "execution_count": 3,
   "id": "a80c4881",
   "metadata": {},
   "outputs": [
    {
     "ename": "SyntaxError",
     "evalue": "cannot assign to operator (2145515693.py, line 1)",
     "output_type": "error",
     "traceback": [
      "\u001b[1;36m  Input \u001b[1;32mIn [3]\u001b[1;36m\u001b[0m\n\u001b[1;33m    a+b=c #변수 = 값, 변수 = 수식의 형태로 사용해야한다.\u001b[0m\n\u001b[1;37m    ^\u001b[0m\n\u001b[1;31mSyntaxError\u001b[0m\u001b[1;31m:\u001b[0m cannot assign to operator\n"
     ]
    }
   ],
   "source": [
    "a+b=c #변수 = 값, 변수 = 수식의 형태로 사용해야한다."
   ]
  },
  {
   "cell_type": "code",
   "execution_count": 4,
   "id": "64d69745",
   "metadata": {},
   "outputs": [
    {
     "ename": "SyntaxError",
     "evalue": "cannot assign to operator (1724445175.py, line 1)",
     "output_type": "error",
     "traceback": [
      "\u001b[1;36m  Input \u001b[1;32mIn [4]\u001b[1;36m\u001b[0m\n\u001b[1;33m    123+456=a #수식 = 변수는 불가능함.\u001b[0m\n\u001b[1;37m    ^\u001b[0m\n\u001b[1;31mSyntaxError\u001b[0m\u001b[1;31m:\u001b[0m cannot assign to operator\n"
     ]
    }
   ],
   "source": [
    "123+456=a #수식 = 변수는 불가능함."
   ]
  },
  {
   "cell_type": "code",
   "execution_count": 5,
   "id": "d781a722",
   "metadata": {
    "scrolled": true
   },
   "outputs": [
    {
     "ename": "TypeError",
     "evalue": "unsupported operand type(s) for +: 'int' and 'str'",
     "output_type": "error",
     "traceback": [
      "\u001b[1;31m---------------------------------------------------------------------------\u001b[0m",
      "\u001b[1;31mTypeError\u001b[0m                                 Traceback (most recent call last)",
      "Input \u001b[1;32mIn [5]\u001b[0m, in \u001b[0;36m<cell line: 2>\u001b[1;34m()\u001b[0m\n\u001b[0;32m      1\u001b[0m a\u001b[38;5;241m=\u001b[39m\u001b[38;5;241m1\u001b[39m \u001b[38;5;66;03m#1을 a에 부여한다. \u001b[39;00m\n\u001b[1;32m----> 2\u001b[0m a\u001b[38;5;241m=\u001b[39m\u001b[43ma\u001b[49m\u001b[38;5;241;43m+\u001b[39;49m\u001b[38;5;124;43m\"\u001b[39;49m\u001b[38;5;124;43m안녕\u001b[39;49m\u001b[38;5;124;43m\"\u001b[39;49m\n",
      "\u001b[1;31mTypeError\u001b[0m: unsupported operand type(s) for +: 'int' and 'str'"
     ]
    }
   ],
   "source": [
    "a=1 #1을 a에 부여한다. \n",
    "a=a+\"안녕\" #a형이 수치형이기 때문에 애러가 난다. "
   ]
  },
  {
   "cell_type": "code",
   "execution_count": 6,
   "id": "de0acedb",
   "metadata": {},
   "outputs": [
    {
     "data": {
      "text/plain": [
       "'abc안녕'"
      ]
     },
     "execution_count": 6,
     "metadata": {},
     "output_type": "execute_result"
    }
   ],
   "source": [
    "a=\"abc\" #문자열을 대입하였기 때문에 문자형 변수 a가 된다. \n",
    "a=a+\"안녕\" #a옆에 안녕을 이어 붙인다.\n",
    "a #abc안녕이 출력된다."
   ]
  },
  {
   "cell_type": "code",
   "execution_count": 7,
   "id": "d46bddc3",
   "metadata": {},
   "outputs": [
    {
     "data": {
      "text/plain": [
       "(1, 2)"
      ]
     },
     "execution_count": 7,
     "metadata": {},
     "output_type": "execute_result"
    }
   ],
   "source": [
    "a=1 #1을 a에 부여한다.\n",
    "b=2 #2를 b에 부여한다. \n",
    "a,b #a와 b를 순서대로 출력한다."
   ]
  },
  {
   "cell_type": "code",
   "execution_count": 8,
   "id": "20839c75",
   "metadata": {},
   "outputs": [
    {
     "data": {
      "text/plain": [
       "(2, 1)"
      ]
     },
     "execution_count": 8,
     "metadata": {},
     "output_type": "execute_result"
    }
   ],
   "source": [
    "a, b=b, a #a,b에 b,a값을 부여한다.\n",
    "a,b #a, b를 출력한다. 2,1이 출력된다. "
   ]
  },
  {
   "cell_type": "code",
   "execution_count": 9,
   "id": "636fc19e",
   "metadata": {},
   "outputs": [
    {
     "data": {
      "text/plain": [
       "(1, 2, '안녕', '하셔요', 3, 4)"
      ]
     },
     "execution_count": 9,
     "metadata": {},
     "output_type": "execute_result"
    }
   ],
   "source": [
    "a,b,c,d,e,f=1,2,\"안녕\",\"하셔요\",3,4 #여러변수의 값을 한번에 대입할 수 있다. \n",
    "a,b,c,d,e,f #변수가 순서대로 출력된다."
   ]
  },
  {
   "cell_type": "code",
   "execution_count": 10,
   "id": "5a083128",
   "metadata": {},
   "outputs": [
    {
     "data": {
      "text/plain": [
       "(1, 1)"
      ]
     },
     "execution_count": 10,
     "metadata": {},
     "output_type": "execute_result"
    }
   ],
   "source": [
    "a=b=1 #a, b에 1을 부여한다. \n",
    "a,b #a,b 가 순서대로 출력된다."
   ]
  },
  {
   "cell_type": "code",
   "execution_count": 11,
   "id": "18c4acbc",
   "metadata": {},
   "outputs": [
    {
     "data": {
      "text/plain": [
       "(1, 2)"
      ]
     },
     "execution_count": 11,
     "metadata": {},
     "output_type": "execute_result"
    }
   ],
   "source": [
    "b=2 #b에 2를 부여한다.\n",
    "a,b #a,b 가 순서대로 출력된다."
   ]
  },
  {
   "cell_type": "code",
   "execution_count": 12,
   "id": "1dd2ed0e",
   "metadata": {},
   "outputs": [
    {
     "data": {
      "text/plain": [
       "([1, 2, 3], [1, 2, 3])"
      ]
     },
     "execution_count": 12,
     "metadata": {},
     "output_type": "execute_result"
    }
   ],
   "source": [
    "a=b=[1,2,3] #단순변의 경우는 값을 대입하는 형태로 =를 이해가능하지만 컬랙션의 경우 같은 변수를 공유하는 것으로 이해\n",
    "a,b #a와 b를 출력한다."
   ]
  },
  {
   "cell_type": "code",
   "execution_count": 13,
   "id": "d1fa0baa",
   "metadata": {},
   "outputs": [
    {
     "data": {
      "text/plain": [
       "([1, 4, 3], [1, 4, 3])"
      ]
     },
     "execution_count": 13,
     "metadata": {},
     "output_type": "execute_result"
    }
   ],
   "source": [
    "a[1]=4 #a의 1번째가 4이다. \n",
    "a,b #a와 b를 출력한다."
   ]
  },
  {
   "cell_type": "code",
   "execution_count": 14,
   "id": "775abfd6",
   "metadata": {},
   "outputs": [
    {
     "data": {
      "text/plain": [
       "([1, 2, 3, 4, 5], [1, 2, 3, 4, 5])"
      ]
     },
     "execution_count": 14,
     "metadata": {},
     "output_type": "execute_result"
    }
   ],
   "source": [
    "a=[1,2,3,4,5] #리스트 1,2,3,4,5를 a 변수화했다. \n",
    "b=a[:]#컬렉션에서 값을 복사하는 경우는 아래와 같이 사용\n",
    "a,b #a와 그 값을 복사한 b가 순서대로 출력된다."
   ]
  },
  {
   "cell_type": "code",
   "execution_count": 15,
   "id": "d23c863a",
   "metadata": {},
   "outputs": [
    {
     "data": {
      "text/plain": [
       "([1, 2, 5, 4, 5], [1, 2, 3, 4, 5])"
      ]
     },
     "execution_count": 15,
     "metadata": {},
     "output_type": "execute_result"
    }
   ],
   "source": [
    "a[2]=5 #a의 2번째 값을 5로 바꾼다.\n",
    "a,b#a와 b가 순서대로 출력된다."
   ]
  },
  {
   "cell_type": "code",
   "execution_count": 16,
   "id": "bf820e0e",
   "metadata": {},
   "outputs": [
    {
     "data": {
      "text/plain": [
       "74"
      ]
     },
     "execution_count": 16,
     "metadata": {},
     "output_type": "execute_result"
    }
   ],
   "source": [
    "import sys #sys를 가져온다. \n",
    "a=123 #a=123이라고 정의한다. \n",
    "sys.getrefcount(123) #123을 어느 공간에 만들어 놓고 참조하는 방식"
   ]
  },
  {
   "cell_type": "code",
   "execution_count": 17,
   "id": "17119996",
   "metadata": {
    "scrolled": true
   },
   "outputs": [
    {
     "data": {
      "text/plain": [
       "75"
      ]
     },
     "execution_count": 17,
     "metadata": {},
     "output_type": "execute_result"
    }
   ],
   "source": [
    " b=123;sys.getrefcount(123) #b=123을 만나면 참조횟수가 1 증가한다. "
   ]
  },
  {
   "cell_type": "code",
   "execution_count": 18,
   "id": "ede948d3",
   "metadata": {},
   "outputs": [
    {
     "data": {
      "text/plain": [
       "76"
      ]
     },
     "execution_count": 18,
     "metadata": {},
     "output_type": "execute_result"
    }
   ],
   "source": [
    "c=123;sys.getrefcount(123) #c=123을 만나서 참조횟수가 1 증가한다. "
   ]
  },
  {
   "cell_type": "code",
   "execution_count": 19,
   "id": "2b124486",
   "metadata": {},
   "outputs": [
    {
     "data": {
      "text/plain": [
       "2.5"
      ]
     },
     "execution_count": 19,
     "metadata": {},
     "output_type": "execute_result"
    }
   ],
   "source": [
    "1+2*3/4 #일반적인 사칙연산 대로 계산함"
   ]
  },
  {
   "cell_type": "code",
   "execution_count": 20,
   "id": "4313a11b",
   "metadata": {},
   "outputs": [
    {
     "data": {
      "text/plain": [
       "8"
      ]
     },
     "execution_count": 20,
     "metadata": {},
     "output_type": "execute_result"
    }
   ],
   "source": [
    "2**3 #거듭제곱은 **"
   ]
  },
  {
   "cell_type": "code",
   "execution_count": 21,
   "id": "bc0de910",
   "metadata": {},
   "outputs": [
    {
     "data": {
      "text/plain": [
       "3.3333333333333335"
      ]
     },
     "execution_count": 21,
     "metadata": {},
     "output_type": "execute_result"
    }
   ],
   "source": [
    "10/3 # 나누기는 소수점까지 표시된다. "
   ]
  },
  {
   "cell_type": "code",
   "execution_count": 22,
   "id": "20889a71",
   "metadata": {},
   "outputs": [
    {
     "data": {
      "text/plain": [
       "1.23456789012e+23"
      ]
     },
     "execution_count": 22,
     "metadata": {},
     "output_type": "execute_result"
    }
   ],
   "source": [
    "1e12*123456789012 #유효숫자개념으로 표현"
   ]
  },
  {
   "cell_type": "code",
   "execution_count": 23,
   "id": "0752e560",
   "metadata": {},
   "outputs": [
    {
     "data": {
      "text/plain": [
       "(124+14j)"
      ]
     },
     "execution_count": 23,
     "metadata": {},
     "output_type": "execute_result"
    }
   ],
   "source": [
    "a=1+2j #복소수 계산\n",
    "a+(123+12j)#(124+14j)로 출력된다."
   ]
  },
  {
   "cell_type": "code",
   "execution_count": 24,
   "id": "8cb4773b",
   "metadata": {},
   "outputs": [
    {
     "data": {
      "text/plain": [
       "2.5"
      ]
     },
     "execution_count": 24,
     "metadata": {},
     "output_type": "execute_result"
    }
   ],
   "source": [
    "5/2 #5나누기 2로 계산"
   ]
  },
  {
   "cell_type": "code",
   "execution_count": 25,
   "id": "1b59a23b",
   "metadata": {},
   "outputs": [
    {
     "data": {
      "text/plain": [
       "2"
      ]
     },
     "execution_count": 25,
     "metadata": {},
     "output_type": "execute_result"
    }
   ],
   "source": [
    "5//2 #5나누기 2의 정수값만 출력"
   ]
  },
  {
   "cell_type": "code",
   "execution_count": 26,
   "id": "d05a3f46",
   "metadata": {},
   "outputs": [
    {
     "data": {
      "text/plain": [
       "1"
      ]
     },
     "execution_count": 26,
     "metadata": {},
     "output_type": "execute_result"
    }
   ],
   "source": [
    "5%2 #5나누기 2의 나머지값 출력"
   ]
  },
  {
   "cell_type": "code",
   "execution_count": 27,
   "id": "35b07d6d",
   "metadata": {},
   "outputs": [
    {
     "name": "stdout",
     "output_type": "stream",
     "text": [
      "2\n"
     ]
    }
   ],
   "source": [
    "a=1;a=a+1;print(a) #세미클론하고 옆에 이어준다. "
   ]
  },
  {
   "cell_type": "code",
   "execution_count": 28,
   "id": "b0c752db",
   "metadata": {},
   "outputs": [
    {
     "name": "stdout",
     "output_type": "stream",
     "text": [
      "2\n"
     ]
    }
   ],
   "source": [
    "a=1;a+=1;print(a) #a +=a는 a=1+1 이란 소리"
   ]
  },
  {
   "cell_type": "code",
   "execution_count": 30,
   "id": "16ec484d",
   "metadata": {},
   "outputs": [
    {
     "data": {
      "text/plain": [
       "8"
      ]
     },
     "execution_count": 30,
     "metadata": {},
     "output_type": "execute_result"
    }
   ],
   "source": [
    "a*=2;a #누적 곱하기는 a=a*2로 표시 "
   ]
  },
  {
   "cell_type": "code",
   "execution_count": 31,
   "id": "49ef74e2",
   "metadata": {},
   "outputs": [
    {
     "data": {
      "text/plain": [
       "0"
      ]
     },
     "execution_count": 31,
     "metadata": {},
     "output_type": "execute_result"
    }
   ],
   "source": [
    "a=1;a-=1;a #a=a-1의 뜻, 0이 출력됨"
   ]
  },
  {
   "cell_type": "code",
   "execution_count": 32,
   "id": "61f7ade4",
   "metadata": {},
   "outputs": [
    {
     "data": {
      "text/plain": [
       "-1"
      ]
     },
     "execution_count": 32,
     "metadata": {},
     "output_type": "execute_result"
    }
   ],
   "source": [
    "a-=1;a ##0에서 a=a-1의 뜻, -1이 출력됨"
   ]
  },
  {
   "cell_type": "code",
   "execution_count": 33,
   "id": "51526686",
   "metadata": {},
   "outputs": [
    {
     "ename": "SyntaxError",
     "evalue": "invalid syntax (1378088204.py, line 2)",
     "output_type": "error",
     "traceback": [
      "\u001b[1;36m  Input \u001b[1;32mIn [33]\u001b[1;36m\u001b[0m\n\u001b[1;33m    a++ #파이썬에서는 a++의 개념이 없다\u001b[0m\n\u001b[1;37m        ^\u001b[0m\n\u001b[1;31mSyntaxError\u001b[0m\u001b[1;31m:\u001b[0m invalid syntax\n"
     ]
    }
   ],
   "source": [
    "a=1\n",
    "a++ #파이썬에서는 a++의 개념이 없다"
   ]
  },
  {
   "cell_type": "code",
   "execution_count": 34,
   "id": "88683967",
   "metadata": {},
   "outputs": [
    {
     "ename": "SyntaxError",
     "evalue": "invalid syntax (1031813330.py, line 1)",
     "output_type": "error",
     "traceback": [
      "\u001b[1;36m  Input \u001b[1;32mIn [34]\u001b[1;36m\u001b[0m\n\u001b[1;33m    a-- # a--도 없다.\u001b[0m\n\u001b[1;37m        ^\u001b[0m\n\u001b[1;31mSyntaxError\u001b[0m\u001b[1;31m:\u001b[0m invalid syntax\n"
     ]
    }
   ],
   "source": [
    "a-- # a--도 없다."
   ]
  },
  {
   "cell_type": "code",
   "execution_count": 45,
   "id": "49cc82ac",
   "metadata": {},
   "outputs": [
    {
     "data": {
      "text/plain": [
       "1"
      ]
     },
     "execution_count": 45,
     "metadata": {},
     "output_type": "execute_result"
    }
   ],
   "source": [
    "a=+ 1; a #a=a+1의 뜻, 1이 출력됨"
   ]
  },
  {
   "cell_type": "code",
   "execution_count": 44,
   "id": "ca7bbec8",
   "metadata": {},
   "outputs": [
    {
     "data": {
      "text/plain": [
       "-1"
      ]
     },
     "execution_count": 44,
     "metadata": {},
     "output_type": "execute_result"
    }
   ],
   "source": [
    "a=- 1 ;a #a=a-1의 뜻, -1이 출력됨"
   ]
  },
  {
   "cell_type": "code",
   "execution_count": 46,
   "id": "4798d564",
   "metadata": {},
   "outputs": [
    {
     "data": {
      "text/plain": [
       "'멍멍이고양이'"
      ]
     },
     "execution_count": 46,
     "metadata": {},
     "output_type": "execute_result"
    }
   ],
   "source": [
    "a=\"멍멍이\" #문자열내용을 a에 부여\n",
    "b=\"고양이\"#문자열내용을 b에 부여\n",
    "a+b# a 다음 b가 이어서 출력"
   ]
  },
  {
   "cell_type": "code",
   "execution_count": 47,
   "id": "70a2fb49",
   "metadata": {},
   "outputs": [
    {
     "data": {
      "text/plain": [
       "'멍멍이멍멍이멍멍이고양이고양이'"
      ]
     },
     "execution_count": 47,
     "metadata": {},
     "output_type": "execute_result"
    }
   ],
   "source": [
    "a*3+b*2 #a가 3번 반복되고 b가 2번 반복되어 출력 "
   ]
  },
  {
   "cell_type": "code",
   "execution_count": 48,
   "id": "a821756c",
   "metadata": {},
   "outputs": [
    {
     "data": {
      "text/plain": [
       "'--------------------'"
      ]
     },
     "execution_count": 48,
     "metadata": {},
     "output_type": "execute_result"
    }
   ],
   "source": [
    "\"-\"*20 #-를 20번 반복 출력"
   ]
  },
  {
   "cell_type": "code",
   "execution_count": 49,
   "id": "ab009e0c",
   "metadata": {},
   "outputs": [
    {
     "ename": "TypeError",
     "evalue": "can only concatenate str (not \"int\") to str",
     "output_type": "error",
     "traceback": [
      "\u001b[1;31m---------------------------------------------------------------------------\u001b[0m",
      "\u001b[1;31mTypeError\u001b[0m                                 Traceback (most recent call last)",
      "Input \u001b[1;32mIn [49]\u001b[0m, in \u001b[0;36m<cell line: 2>\u001b[1;34m()\u001b[0m\n\u001b[0;32m      1\u001b[0m a\u001b[38;5;241m=\u001b[39m\u001b[38;5;241m1\u001b[39m \u001b[38;5;66;03m#a는 1이다.\u001b[39;00m\n\u001b[1;32m----> 2\u001b[0m b\u001b[38;5;241m=\u001b[39m\u001b[38;5;124;43m\"\u001b[39;49m\u001b[38;5;124;43m강아지\u001b[39;49m\u001b[38;5;124;43m\"\u001b[39;49m\u001b[38;5;241;43m+\u001b[39;49m\u001b[43ma\u001b[49m\u001b[38;5;241m+\u001b[39m\u001b[38;5;124m\"\u001b[39m\u001b[38;5;124m마리\u001b[39m\u001b[38;5;124m\"\u001b[39m\n",
      "\u001b[1;31mTypeError\u001b[0m: can only concatenate str (not \"int\") to str"
     ]
    }
   ],
   "source": [
    "a=1 #a는 1이다.\n",
    "b=\"강아지\"+a+\"마리\" #문자형과 숫자형의 덧셈은 애러이다. 이때 숫자형을 문자형으로 변환하여야한다."
   ]
  },
  {
   "cell_type": "code",
   "execution_count": 51,
   "id": "a40e2991",
   "metadata": {},
   "outputs": [
    {
     "data": {
      "text/plain": [
       "'강아지1마리'"
      ]
     },
     "execution_count": 51,
     "metadata": {},
     "output_type": "execute_result"
    }
   ],
   "source": [
    "b=\"강아지\"+str(a)+\"마리\"\n",
    "b #다음과 같이 문자형으로 바꾸는 작업인 str()함수를 사용하여 출력하면 강아지1마리로 출력된다."
   ]
  },
  {
   "cell_type": "code",
   "execution_count": 52,
   "id": "f41cde5d",
   "metadata": {},
   "outputs": [
    {
     "data": {
      "text/plain": [
       "44032"
      ]
     },
     "execution_count": 52,
     "metadata": {},
     "output_type": "execute_result"
    }
   ],
   "source": [
    "ord(\"가\") #문자형을 다루는 ord()함수는 문자의 내부코드값을 반환한다."
   ]
  },
  {
   "cell_type": "code",
   "execution_count": 53,
   "id": "96c5a7a2",
   "metadata": {},
   "outputs": [
    {
     "data": {
      "text/plain": [
       "'0x61'"
      ]
     },
     "execution_count": 53,
     "metadata": {},
     "output_type": "execute_result"
    }
   ],
   "source": [
    "hex(ord(\"a\")) #a의 내부코드값을 16진수로 반환한다."
   ]
  },
  {
   "cell_type": "code",
   "execution_count": 54,
   "id": "9e71e4ef",
   "metadata": {},
   "outputs": [
    {
     "name": "stdout",
     "output_type": "stream",
     "text": [
      "0x61 = a , 0x62 = b , 0x63 = c , 0x64 = d , 0x65 = e , 0x66 = f , 0x67 = g , 0x68 = h , 0x69 = i , 0x6a = j , 0x6b = k , 0x6c = l , 0x6d = m , 0x6e = n , 0x6f = o , 0x70 = p , 0x71 = q , 0x72 = r , 0x73 = s , 0x74 = t , 0x75 = u , 0x76 = v , 0x77 = w , 0x78 = x , 0x79 = y , 0x7a = z , "
     ]
    }
   ],
   "source": [
    "for c in range (ord('a'), ord('z')+1): #a부터 z까지의 내부코드값 안에서 반복한다. \n",
    "    print(hex(c),\"=\",chr(c),\", \",end=\"\") #16진수값과 내부코드값을 해당글자로 반환한값을 출력한다."
   ]
  },
  {
   "cell_type": "code",
   "execution_count": 55,
   "id": "54104fb7",
   "metadata": {},
   "outputs": [
    {
     "ename": "TypeError",
     "evalue": "can only concatenate str (not \"int\") to str",
     "output_type": "error",
     "traceback": [
      "\u001b[1;31m---------------------------------------------------------------------------\u001b[0m",
      "\u001b[1;31mTypeError\u001b[0m                                 Traceback (most recent call last)",
      "Input \u001b[1;32mIn [55]\u001b[0m, in \u001b[0;36m<cell line: 1>\u001b[1;34m()\u001b[0m\n\u001b[1;32m----> 1\u001b[0m a\u001b[38;5;241m=\u001b[39m \u001b[38;5;124m\"\u001b[39m\u001b[38;5;124m123\u001b[39m\u001b[38;5;124m\"\u001b[39m; \u001b[43ma\u001b[49m\u001b[38;5;241;43m+\u001b[39;49m\u001b[38;5;241;43m1\u001b[39;49m\n",
      "\u001b[1;31mTypeError\u001b[0m: can only concatenate str (not \"int\") to str"
     ]
    }
   ],
   "source": [
    "a= \"123\"; a+1 #문자열에서 숫자형을 덧셈할 수 없다."
   ]
  },
  {
   "cell_type": "code",
   "execution_count": 56,
   "id": "9ed4b0e9",
   "metadata": {},
   "outputs": [
    {
     "data": {
      "text/plain": [
       "124"
      ]
     },
     "execution_count": 56,
     "metadata": {},
     "output_type": "execute_result"
    }
   ],
   "source": [
    "a=\"123\"; int(a)+1 #다음과 같이 int형함수로 바꾸어 덧셈을 하여야된다."
   ]
  },
  {
   "cell_type": "code",
   "execution_count": 57,
   "id": "76ce8536",
   "metadata": {},
   "outputs": [
    {
     "data": {
      "text/plain": [
       "12"
      ]
     },
     "execution_count": 57,
     "metadata": {},
     "output_type": "execute_result"
    }
   ],
   "source": [
    "a=12.3; int(a) #실수를 정수형으로 바꾸어주면 소수점이 버림처리 된다."
   ]
  },
  {
   "cell_type": "code",
   "execution_count": 58,
   "id": "2b15caf1",
   "metadata": {},
   "outputs": [
    {
     "ename": "ValueError",
     "evalue": "invalid literal for int() with base 10: '12.3'",
     "output_type": "error",
     "traceback": [
      "\u001b[1;31m---------------------------------------------------------------------------\u001b[0m",
      "\u001b[1;31mValueError\u001b[0m                                Traceback (most recent call last)",
      "Input \u001b[1;32mIn [58]\u001b[0m, in \u001b[0;36m<cell line: 1>\u001b[1;34m()\u001b[0m\n\u001b[1;32m----> 1\u001b[0m a\u001b[38;5;241m=\u001b[39m\u001b[38;5;124m\"\u001b[39m\u001b[38;5;124m12.3\u001b[39m\u001b[38;5;124m\"\u001b[39m;\u001b[38;5;28;43mint\u001b[39;49m\u001b[43m(\u001b[49m\u001b[43ma\u001b[49m\u001b[43m)\u001b[49m\n",
      "\u001b[1;31mValueError\u001b[0m: invalid literal for int() with base 10: '12.3'"
     ]
    }
   ],
   "source": [
    "a=\"12.3\";int(a) #실수형 함수를 사용해야한다."
   ]
  },
  {
   "cell_type": "code",
   "execution_count": 59,
   "id": "a186173e",
   "metadata": {},
   "outputs": [
    {
     "data": {
      "text/plain": [
       "12.3"
      ]
     },
     "execution_count": 59,
     "metadata": {},
     "output_type": "execute_result"
    }
   ],
   "source": [
    "float(a) #실수형 함수 float()을 사용하였기 때문에 12.3으로 출력될 것이다."
   ]
  },
  {
   "cell_type": "code",
   "execution_count": 60,
   "id": "262e19c9",
   "metadata": {},
   "outputs": [
    {
     "data": {
      "text/plain": [
       "14.1"
      ]
     },
     "execution_count": 60,
     "metadata": {},
     "output_type": "execute_result"
    }
   ],
   "source": [
    "a=1.1;1+a+12 #실수형과 정수형끼리 덧셈을 할 수 있다."
   ]
  },
  {
   "cell_type": "code",
   "execution_count": 61,
   "id": "ec641625",
   "metadata": {},
   "outputs": [
    {
     "data": {
      "text/plain": [
       "14"
      ]
     },
     "execution_count": 61,
     "metadata": {},
     "output_type": "execute_result"
    }
   ],
   "source": [
    "1+int(a)+12 #실수를 정수로 바꿔주고 계산하면 소수점이 버려지고 정수 값이 나온다."
   ]
  },
  {
   "cell_type": "code",
   "execution_count": 62,
   "id": "cc198946",
   "metadata": {},
   "outputs": [
    {
     "data": {
      "text/plain": [
       "3"
      ]
     },
     "execution_count": 62,
     "metadata": {},
     "output_type": "execute_result"
    }
   ],
   "source": [
    "int(3.14)"
   ]
  },
  {
   "cell_type": "code",
   "execution_count": 74,
   "id": "dda4bd2f",
   "metadata": {},
   "outputs": [
    {
     "data": {
      "text/plain": [
       "(3, 3.1, 120000)"
      ]
     },
     "execution_count": 74,
     "metadata": {},
     "output_type": "execute_result"
    }
   ],
   "source": [
    "round(3.14),round(3.14,1),round(123456,-4) #버림계산: 음수는 소수점 이상 해당자리에서 반올림함\n",
    "#양수는 소수점 이하 해당자리에서 반올림됨."
   ]
  },
  {
   "cell_type": "code",
   "execution_count": 75,
   "id": "08ab8169",
   "metadata": {},
   "outputs": [
    {
     "data": {
      "text/plain": [
       "3"
      ]
     },
     "execution_count": 75,
     "metadata": {},
     "output_type": "execute_result"
    }
   ],
   "source": [
    "int(3.14) #정수형으로 표현, 소수점은 버려진다."
   ]
  },
  {
   "cell_type": "code",
   "execution_count": 81,
   "id": "d0a432cf",
   "metadata": {},
   "outputs": [
    {
     "name": "stdout",
     "output_type": "stream",
     "text": [
      "3\n",
      "3.1\n",
      "120000\n"
     ]
    }
   ],
   "source": [
    "print(round(3.14));print(round(3.14,1)); #첫번째는 정수형변환(소수점버림) #두번째는 소수점 1자리 전에 반올림\n",
    "print(round(123456,-4))#세번째는 첫의 자리에서 반올림한 값을 출력."
   ]
  },
  {
   "cell_type": "code",
   "execution_count": 84,
   "id": "7da3666a",
   "metadata": {},
   "outputs": [
    {
     "data": {
      "text/plain": [
       "1235000"
      ]
     },
     "execution_count": 84,
     "metadata": {},
     "output_type": "execute_result"
    }
   ],
   "source": [
    "a=1234567 #1234567을 a에 부여한다. \n",
    "if(a%1000 != 0 ) : #1000으로 나누어 나머지가 있다면\n",
    "    a=int(a/1000)*1000+1000 #버린값에다 한자리를 올려 줌\n",
    "else:\n",
    "    a=int(a/1000)*1000 #아니면 나누어 곱한 그대로 출력한다 \n",
    "a #a를 출력한다."
   ]
  },
  {
   "cell_type": "code",
   "execution_count": null,
   "id": "6935e5ac",
   "metadata": {},
   "outputs": [],
   "source": []
  }
 ],
 "metadata": {
  "kernelspec": {
   "display_name": "Python 3 (ipykernel)",
   "language": "python",
   "name": "python3"
  },
  "language_info": {
   "codemirror_mode": {
    "name": "ipython",
    "version": 3
   },
   "file_extension": ".py",
   "mimetype": "text/x-python",
   "name": "python",
   "nbconvert_exporter": "python",
   "pygments_lexer": "ipython3",
   "version": "3.8.8rc1"
  }
 },
 "nbformat": 4,
 "nbformat_minor": 5
}
